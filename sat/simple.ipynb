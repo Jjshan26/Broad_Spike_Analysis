{
 "metadata": {
  "language_info": {
   "codemirror_mode": {
    "name": "ipython",
    "version": 3
   },
   "file_extension": ".py",
   "mimetype": "text/x-python",
   "name": "python",
   "nbconvert_exporter": "python",
   "pygments_lexer": "ipython3",
   "version": "3.7.0-final"
  },
  "orig_nbformat": 2,
  "kernelspec": {
   "name": "python3",
   "display_name": "Python 3"
  }
 },
 "nbformat": 4,
 "nbformat_minor": 2,
 "cells": [
  {
   "cell_type": "code",
   "execution_count": null,
   "metadata": {},
   "outputs": [],
   "source": [
    "import sys\n",
    "import os\n",
    "import pandas as pd\n",
    "import numpy as np\n",
    "import pyabf\n",
    "from scipy.signal import find_peaks\n",
    "import plotly.express as px\n",
    "import plotly.graph_objects as go\n",
    "import fxn as mabf"
   ]
  },
  {
   "cell_type": "code",
   "execution_count": null,
   "metadata": {},
   "outputs": [],
   "source": [
    "#### Change to the directory with input file to work ####\n",
    "input_data_dir = \"C:/work/Broad/input/18/\"\n",
    "output_data_dir = \"C:/work/Broad/output/\"\n",
    "filenames = os.listdir(input_data_dir)\n",
    "#### change index to pick file ####\n",
    "filename =filenames[21]\n",
    "filepath = input_data_dir + '/' + filename\n",
    "\n",
    "abf = pyabf.ABF(filepath)\n",
    "base = os.path.basename(filepath)\n",
    "name = os.path.splitext(base)[0]"
   ]
  },
  {
   "cell_type": "code",
   "execution_count": null,
   "metadata": {
    "tags": []
   },
   "outputs": [],
   "source": [
    "# set sweep\n",
    "sweep =0\n",
    "abf.setSweep(sweep)\n",
    "time = abf.sweepX\n",
    "time_resolution =  time[1]  \n",
    "freq = round(1/time_resolution) \n",
    "voltage = abf.sweepY\n",
    "current = abf.sweepC\n",
    "voltage_derivative = mabf.get_derivative(voltage, x_unit_distance = time_resolution)\n",
    "print(f'sweep count: {abf.sweepCount}, freq : {freq} Hz, sample time: {time_resolution*1000} ms, period: {time[-1]:.2f} sec')\n",
    "# stimulus start end \n",
    "stim_s = mabf.get_index_sharp_change(current, threshold=-10, window=1)\n",
    "stim_e = mabf.get_index_sharp_change(current, threshold=10, window=1)\n",
    "print(f'Stimulus starts at {stim_s} end at {stim_e}')\n",
    "\n",
    "# RMP \n",
    "rmp_s, rmp_e, rmp = mabf.get_resting_membrane_potential(voltage)\n",
    "print(f'RMP: {rmp:.2f} mV, averaging from {rmp_s} - {rmp_e}')\n",
    "fhv = voltage[0]\n",
    "\n",
    "# hyperpolarization\n",
    "hpp_s, hpp_e, hpp_ind, hpp = mabf.get_hyperpolarized_potential(voltage, current)\n",
    "hp_amp = hpp - rmp\n",
    "print(f'RMP={rmp:.2f} mV, HPP={hpp:.2f} mV, HP_AMP={hp_amp:.2f} mV, current amp={current.min()} mA, first_holding_waveform  (mV): {fhv}')\n",
    "print(f'Hyperpolarization start at {hpp_s}, end at {hpp_e}')\n",
    "\n",
    "hpp_points = [rmp_s, rmp_e, hpp_s, hpp_e, hpp_ind]\n",
    "hpp_labels = ['rmp_start', 'rmp_end', 'hpp_start', 'hpp_end', 'hpp_bottom']\n",
    "hpp_df = pd.DataFrame({'label': hpp_labels, 'point_index': hpp_points})\n",
    "\n",
    "sweep_info = mabf.Sweep(dt=time_resolution, period=round(time[-1],2), rmp=rmp, \n",
    "            hpp=hpp, hp_amp=hp_amp, hpp_s=hpp_s, hpp_e=hpp_e)"
   ]
  },
  {
   "cell_type": "code",
   "execution_count": null,
   "metadata": {},
   "outputs": [],
   "source": [
    "# plot the whole sweep, WARNING it may take some to plot all data  \n",
    "f2 = mabf.plot_sweep(time, current, voltage)\n",
    "f2.show()"
   ]
  },
  {
   "cell_type": "code",
   "execution_count": null,
   "metadata": {},
   "outputs": [],
   "source": [
    "# plot the hpp\n",
    "fig =  mabf.plot_hpp(time, current, voltage, hpp_df)\n",
    "fig.show()"
   ]
  },
  {
   "cell_type": "code",
   "execution_count": null,
   "metadata": {
    "tags": []
   },
   "outputs": [],
   "source": [
    "# find peaks \n",
    "peak_indices, _ = find_peaks(voltage, height=-20, threshold=-40)\n",
    "peak_indices = np.array(peak_indices)\n",
    "if len(peak_indices) > 0:\n",
    "    print(f'peak num: {len(peak_indices)},  peak start: {peak_indices[0]}, peak end: {peak_indices[-1]}, hyperpolarization end: {hpp_e}')\n",
    "    print(f'peak starts after hpp ends: {hpp_e < peak_indices[0]}')\n",
    "    print(f'peak voltages: {voltage[peak_indices]}')\n",
    "    # get bursts info \n",
    "    df_peak_info = mabf.get_bursts(peak_indices, time_resolution)\n",
    "else:\n",
    "    print('No peak detected')\n",
    "    # get bursts info \n",
    "    df_peak_info = None"
   ]
  },
  {
   "cell_type": "code",
   "execution_count": null,
   "metadata": {
    "tags": []
   },
   "outputs": [],
   "source": [
    "if df_peak_info is not None:\n",
    "    df_burst_info = df_peak_info.loc[~df_peak_info.burst_index.isna()]\n",
    "    #### change the index to pick different burst ####\n",
    "    current_burst_index = 2\n",
    "    current_burst  = df_burst_info[df_burst_info['burst_index'] == current_burst_index]\n",
    "    next_burst_index = current_burst_index + 1 \n",
    "    if next_burst_index < max(df_burst_info['burst_index']):\n",
    "        tmp_end = df_burst_info[df_burst_info['burst_index'] == next_burst_index].peak_index.iloc[0]\n",
    "    else:\n",
    "        tmp_end =  df_burst_info[df_burst_info['burst_index'] == current_burst_index].peak_index.iloc[-1]+1000\n",
    "        tmp_end = min(tmp_end, len(voltage)-1)\n",
    "    burst_detail = mabf.get_burst_detail(current_burst, time, voltage, voltage_derivative, sweep_info, tmp_end) \n",
    "    burst_fig =  mabf.plot_burst(time, voltage, sweep_info, current_burst, burst_detail)\n",
    "    burst_fig.show()"
   ]
  }
 ]
}